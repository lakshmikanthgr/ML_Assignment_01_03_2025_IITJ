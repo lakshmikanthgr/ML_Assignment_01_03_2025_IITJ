{
  "nbformat": 4,
  "nbformat_minor": 0,
  "metadata": {
    "colab": {
      "provenance": []
    },
    "kernelspec": {
      "name": "python3",
      "display_name": "Python 3"
    },
    "language_info": {
      "name": "python"
    }
  },
  "cells": [
    {
      "cell_type": "code",
      "execution_count": null,
      "metadata": {
        "id": "0pZlPrqbyzgA"
      },
      "outputs": [],
      "source": []
    },
    {
      "cell_type": "markdown",
      "source": [
        "### Question\n",
        "\n",
        "*Load the IRIS dataset. The dataset consists of 150 samples of iris flowers, each belonging to one of three species (setosa, versicolor, or virginica). Each sample includes four features: sepal length, sepal width, petal length, and petal width.*\n",
        "\n",
        "\n",
        "1.Visualize the distribution of each feature and the class distribution.\n",
        "\n",
        "2.Encode the categorical target variable (species) into numerical values.\n",
        "\n",
        "3.Split the dataset into training and testing sets (use an appropriate ratio).\n",
        "\n",
        "4.Decision Tree Model\n",
        "\n",
        "\n",
        "*   Build a decision tree classifier using the training set.\n",
        "*   Visualize the resulting decision tree.\n",
        "*   Make predictions on the testing set and evaluate the model's performance using appropriate metrics (e.g., accuracy, confusion matrix).\n",
        "\n",
        "5.Random Forest Model\n",
        "\n",
        "\n",
        "*   Build a random forest classifier using the training set.\n",
        "*   Tune the hyperparameters (e.g., number of trees, maximum depth) if necessary.\n",
        "*   Make predictions on the testing set and evaluate the model's performance using\n",
        "appropriate metrics and compare it with the decision tree model.\n",
        "\n"
      ],
      "metadata": {
        "id": "9GP-CtZPy1oI"
      }
    }
  ]
}