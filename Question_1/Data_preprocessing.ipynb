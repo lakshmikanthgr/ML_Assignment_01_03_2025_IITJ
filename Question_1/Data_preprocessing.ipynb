{
 "cells": [
  {
   "cell_type": "code",
   "execution_count": null,
   "metadata": {},
   "outputs": [],
   "source": []
  },
  {
   "cell_type": "markdown",
   "metadata": {},
   "source": [
    "# Qustion:\n",
    "\n",
    "You have been provided with a CSV file \"Cars93.csv.\" The given dataset is related to cars and\n",
    "contains 26 columns. In the given dataset, “Price” is the target variable (i.e., the output). The\n",
    "marks distribution according to the tasks are as follows:\n",
    "\n",
    "Assign a type to each of the following features (a) Model, (b) Type, (c) Max. Price and\n",
    "(d) Airbags from the following: ordinal/nominal/ratio/interval scale."
   ]
  },
  {
   "cell_type": "code",
   "execution_count": 1,
   "metadata": {},
   "outputs": [],
   "source": [
    "import pandas as pd\n",
    "import numpy as np"
   ]
  }
 ],
 "metadata": {
  "kernelspec": {
   "display_name": "venv",
   "language": "python",
   "name": "python3"
  },
  "language_info": {
   "codemirror_mode": {
    "name": "ipython",
    "version": 3
   },
   "file_extension": ".py",
   "mimetype": "text/x-python",
   "name": "python",
   "nbconvert_exporter": "python",
   "pygments_lexer": "ipython3",
   "version": "3.10.12"
  }
 },
 "nbformat": 4,
 "nbformat_minor": 2
}
